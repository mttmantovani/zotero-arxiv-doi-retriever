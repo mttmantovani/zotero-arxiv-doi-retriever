{
 "cells": [
  {
   "cell_type": "markdown",
   "metadata": {},
   "source": [
    "# Retrieve published versions of articles on arXiv with `pyzotero`"
   ]
  },
  {
   "cell_type": "markdown",
   "metadata": {},
   "source": [
    "## Load entire Zotero library"
   ]
  },
  {
   "cell_type": "code",
   "execution_count": 194,
   "metadata": {
    "ExecuteTime": {
     "end_time": "2020-12-28T18:06:44.150521Z",
     "start_time": "2020-12-28T18:06:11.333682Z"
    }
   },
   "outputs": [],
   "source": [
    "from pyzotero import zotero\n",
    "zot = zotero.Zotero(library_id, 'user', api_key)\n",
    "items = zot.everything(zot.top())"
   ]
  },
  {
   "cell_type": "markdown",
   "metadata": {},
   "source": [
    "## Finds arXiv preprints in library"
   ]
  },
  {
   "cell_type": "code",
   "execution_count": 195,
   "metadata": {
    "ExecuteTime": {
     "end_time": "2020-12-28T18:06:48.033744Z",
     "start_time": "2020-12-28T18:06:48.027483Z"
    },
    "code_folding": []
   },
   "outputs": [],
   "source": [
    "preprints = []\n",
    "\n",
    "for item in items:\n",
    "    if 'publicationTitle' in item['data']:\n",
    "        if (\n",
    "            any('arxiv' in str for str in [item['data']['publicationTitle'].lower(), item['data']['url'].lower()]) and \n",
    "            (' ' not in item['data']['url'])\n",
    "        ):\n",
    "            preprints.append(item)"
   ]
  },
  {
   "cell_type": "markdown",
   "metadata": {},
   "source": [
    "## Scrape URLs for DOIs"
   ]
  },
  {
   "cell_type": "code",
   "execution_count": 204,
   "metadata": {
    "ExecuteTime": {
     "end_time": "2020-12-28T22:33:55.393134Z",
     "start_time": "2020-12-28T22:33:31.864785Z"
    }
   },
   "outputs": [],
   "source": [
    "import requests\n",
    "import re\n",
    "import textwrap\n",
    "\n",
    "regex = 'name=\"citation_doi\" content=(.*?)/>'\n",
    "pattern = re.compile(regex)\n",
    "\n",
    "\n",
    "new = {}\n",
    "keys, titles, DOIs = [], [], []\n",
    "for item in preprints:\n",
    "    r = requests.get(item['data']['url'])\n",
    "    match = re.search(pattern, r.text)\n",
    "    if match:\n",
    "        DOI = match[1].replace('\"', '').strip()\n",
    "        new[item['data']['key']] = DOI\n",
    "        keys.append(item['data']['key'])\n",
    "        titles.append(item['data']['title'])\n",
    "        DOIs.append(DOI)"
   ]
  },
  {
   "cell_type": "code",
   "execution_count": 205,
   "metadata": {
    "ExecuteTime": {
     "end_time": "2020-12-28T22:33:57.302805Z",
     "start_time": "2020-12-28T22:33:57.297242Z"
    }
   },
   "outputs": [
    {
     "name": "stdout",
     "output_type": "stream",
     "text": [
      "18 DOIs have been found among 33 preprints.\n",
      "\n",
      "\n",
      "PH2Z6HN3  Crossover from Fabry-Pérot to charging oscillations in [...] 10.1103/PhysRevLett.125.187701\n",
      "DBX4GU48  Cavity Quantum Electrodynamics with Second-Order [...]       10.1002/lpor.201900425        \n",
      "CIJHD52N  Four-wave mixing dynamics of a strongly coupled [...]        10.1103/PhysRevB.101.245301   \n",
      "WV7YVYQA  Flux-mediated optomechanics with a transmon qubit in [...]   10.1103/PhysRevResearch.2.023335\n",
      "5HQGSXL6  Strong coupling between a single quantum dot and an [...]    10.35848/1882-0786/aba7a8     \n",
      "YPFNY6J4  Quantum jump approach to microscopic heat engines            10.1103/PhysRevResearch.2.033449\n",
      "HPVJIM5D  A Double Quantum Dot Spin Valve                              10.1038/s42005-020-00405-2    \n",
      "AM37R9KQ  Waveguide Quantum Electrodynamics with Giant [...]           10.1038/s41586-020-2529-9     \n",
      "9UTDNZWQ  Machine learning enables completely automatic tuning [...]   10.1038/s41467-020-17835-9    \n",
      "44NST65M  Hybrid superconductor-semiconductor systems for [...]        10.1063/5.0004777             \n",
      "M39R38QF  Correlated spectrum of distant semiconductor qubits [...]    10.1016/j.scib.2020.10.005    \n",
      "ZCD3D237  Thermally pumped on-chip maser                               10.1103/PhysRevB.102.104503   \n",
      "LVED9S8B  A Single-Quantum-Dot Heat Valve                              10.1103/PhysRevLett.125.237701\n",
      "NLFCSQ4A  Self-driven oscillation in Coulomb blockaded suspended [...] 10.1103/PhysRevResearch.2.033040\n",
      "D7IJT7BU  Emergent $\\mathcal{PT}$ symmetry in a double-quantum- [...]  10.1103/PhysRevResearch.2.043075\n",
      "UXEJ3YWN  Thermodynamics of ultrastrongly coupled light-matter systems 10.22331/q-2020-09-28-335     \n",
      "U5XKSL9T  Hartree-Fock on a superconducting qubit quantum computer     10.1126/science.abb9811       \n",
      "NC93WPG9  Transfer learning in hybrid classical-quantum neural [...]   10.22331/q-2020-10-09-340     \n"
     ]
    }
   ],
   "source": [
    "print(f'{len(new)} DOIs have been found among {len(preprints)} preprints.')\n",
    "print('\\n')\n",
    "print('\\n'.join(f'{key:<9} {textwrap.shorten(title, width=60):<60} {DOI:<30}' for key, title, DOI in zip(keys, titles, DOIs)))"
   ]
  },
  {
   "cell_type": "markdown",
   "metadata": {},
   "source": [
    "## Update items in library"
   ]
  },
  {
   "cell_type": "code",
   "execution_count": 198,
   "metadata": {
    "ExecuteTime": {
     "end_time": "2020-12-28T18:17:57.094373Z",
     "start_time": "2020-12-28T18:17:57.089764Z"
    }
   },
   "outputs": [
    {
     "data": {
      "text/plain": [
       "{'PH2Z6HN3': '10.1103/PhysRevLett.125.187701',\n",
       " 'DBX4GU48': '10.1002/lpor.201900425',\n",
       " 'CIJHD52N': '10.1103/PhysRevB.101.245301',\n",
       " 'WV7YVYQA': '10.1103/PhysRevResearch.2.023335',\n",
       " '5HQGSXL6': '10.35848/1882-0786/aba7a8',\n",
       " 'YPFNY6J4': '10.1103/PhysRevResearch.2.033449',\n",
       " 'HPVJIM5D': '10.1038/s42005-020-00405-2',\n",
       " 'AM37R9KQ': '10.1038/s41586-020-2529-9',\n",
       " '9UTDNZWQ': '10.1038/s41467-020-17835-9',\n",
       " '44NST65M': '10.1063/5.0004777',\n",
       " 'M39R38QF': '10.1016/j.scib.2020.10.005',\n",
       " 'ZCD3D237': '10.1103/PhysRevB.102.104503',\n",
       " 'LVED9S8B': '10.1103/PhysRevLett.125.237701',\n",
       " 'NLFCSQ4A': '10.1103/PhysRevResearch.2.033040',\n",
       " 'D7IJT7BU': '10.1103/PhysRevResearch.2.043075',\n",
       " 'UXEJ3YWN': '10.22331/q-2020-09-28-335',\n",
       " 'U5XKSL9T': '10.1126/science.abb9811',\n",
       " 'NC93WPG9': '10.22331/q-2020-10-09-340'}"
      ]
     },
     "execution_count": 198,
     "metadata": {},
     "output_type": "execute_result"
    }
   ],
   "source": [
    "success = []\n",
    "for key, DOI in new.items():\n",
    "    to_update = zot.item(key)\n",
    "    to_update['data']['DOI'] = DOI\n",
    "    success.append(zot.update_item(to_update))\n",
    "    if all(success):\n",
    "        print('All preprints have been updated with new DOI.')\n",
    "    else:\n",
    "        pass\n",
    "    "
   ]
  },
  {
   "cell_type": "code",
   "execution_count": null,
   "metadata": {},
   "outputs": [],
   "source": []
  }
 ],
 "metadata": {
  "kernelspec": {
   "display_name": "Python 3",
   "language": "python",
   "name": "python3"
  },
  "language_info": {
   "codemirror_mode": {
    "name": "ipython",
    "version": 3
   },
   "file_extension": ".py",
   "mimetype": "text/x-python",
   "name": "python",
   "nbconvert_exporter": "python",
   "pygments_lexer": "ipython3",
   "version": "3.7.9"
  },
  "latex_envs": {
   "LaTeX_envs_menu_present": true,
   "autoclose": false,
   "autocomplete": true,
   "bibliofile": "biblio.bib",
   "cite_by": "apalike",
   "current_citInitial": 1,
   "eqLabelWithNumbers": true,
   "eqNumInitial": 1,
   "hotkeys": {
    "equation": "Ctrl-E",
    "itemize": "Ctrl-I"
   },
   "labels_anchors": false,
   "latex_user_defs": false,
   "report_style_numbering": false,
   "user_envs_cfg": false
  },
  "toc": {
   "base_numbering": 1,
   "nav_menu": {},
   "number_sections": true,
   "sideBar": true,
   "skip_h1_title": true,
   "title_cell": "Table of Contents",
   "title_sidebar": "Contents",
   "toc_cell": false,
   "toc_position": {},
   "toc_section_display": true,
   "toc_window_display": true
  },
  "varInspector": {
   "cols": {
    "lenName": 16,
    "lenType": 16,
    "lenVar": 40
   },
   "kernels_config": {
    "python": {
     "delete_cmd_postfix": "",
     "delete_cmd_prefix": "del ",
     "library": "var_list.py",
     "varRefreshCmd": "print(var_dic_list())"
    },
    "r": {
     "delete_cmd_postfix": ") ",
     "delete_cmd_prefix": "rm(",
     "library": "var_list.r",
     "varRefreshCmd": "cat(var_dic_list()) "
    }
   },
   "types_to_exclude": [
    "module",
    "function",
    "builtin_function_or_method",
    "instance",
    "_Feature"
   ],
   "window_display": false
  }
 },
 "nbformat": 4,
 "nbformat_minor": 2
}
