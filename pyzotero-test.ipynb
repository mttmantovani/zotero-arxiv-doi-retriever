{
 "cells": [
  {
   "cell_type": "markdown",
   "metadata": {},
   "source": [
    "# Retrieve published versions of articles on arXiv with Zotero"
   ]
  },
  {
   "cell_type": "code",
   "execution_count": 60,
   "metadata": {
    "ExecuteTime": {
     "end_time": "2019-11-28T13:26:13.703667Z",
     "start_time": "2019-11-28T13:26:06.726125Z"
    }
   },
   "outputs": [],
   "source": [
    "from pyzotero import zotero\n",
    "zot = zotero.Zotero(5486616, 'user', 'tqkLzFUD5C0ljayjBvLOZpzr')\n",
    "items = zot.everything(zot.top())\n"
   ]
  },
  {
   "cell_type": "code",
   "execution_count": 65,
   "metadata": {
    "ExecuteTime": {
     "end_time": "2019-11-28T13:31:57.200951Z",
     "start_time": "2019-11-28T13:31:57.193850Z"
    },
    "code_folding": []
   },
   "outputs": [
    {
     "name": "stdout",
     "output_type": "stream",
     "text": [
      "Title: Microwave-Assisted Tunneling in Hard-Wall InAs/InP Nanowire Quantum Dots, arXiv:1907.12324, http://arxiv.org/abs/1907.12324 \n",
      "Title: Superconductor-semiconductor hybrid cavity quantum electrodynamics, arXiv:1905.01155, https://arxiv.org/abs/1905.01155v1 \n",
      "Title: Heat switch and thermoelectric effects based on Cooper-pair splitting and elastic cotunneling, Phys. Rev. B, https://link.aps.org/doi/10.1103/PhysRevB.99.115127 http://arxiv.org/abs/1806.09838 \n",
      "Title: Machine Learning Kernel Method from a Quantum Generative Model, arXiv:1907.05103, http://arxiv.org/abs/1907.05103 \n",
      "Title: Antibunched photons emitted by a dc biased Josephson junction, , http://arxiv.org/abs/1810.06217 \n",
      "Title: Dynamical multistability in a quantum-dot laser, Phys. Rev. B, http://arxiv.org/abs/1808.04884 https://journals.aps.org/prb/abstract/10.1103/PhysRevB.99.045442 \n"
     ]
    }
   ],
   "source": [
    "for item in items:\n",
    "    #print(item['data'].keys())\n",
    "    if 'publicationTitle' in item['data']:\n",
    "        if any('arxiv' in str for str in [item['data']['publicationTitle'].lower(),item['data']['url'].lower()]) :\n",
    "            print(f\"Title: {item['data']['title']}, {item['data']['publicationTitle']}, {item['data']['url']} \")"
   ]
  },
  {
   "cell_type": "code",
   "execution_count": 43,
   "metadata": {
    "ExecuteTime": {
     "end_time": "2019-11-28T13:06:56.683865Z",
     "start_time": "2019-11-28T13:06:56.677790Z"
    }
   },
   "outputs": [
    {
     "name": "stdout",
     "output_type": "stream",
     "text": [
      "journalArticle\n",
      "journalArticle\n",
      "journalArticle\n",
      "journalArticle\n",
      "attachment\n",
      "attachment\n",
      "attachment\n",
      "journalArticle\n",
      "attachment\n",
      "journalArticle\n",
      "attachment\n",
      "attachment\n",
      "attachment\n",
      "attachment\n",
      "attachment\n",
      "attachment\n",
      "attachment\n",
      "attachment\n",
      "attachment\n",
      "attachment\n",
      "attachment\n",
      "journalArticle\n",
      "attachment\n",
      "journalArticle\n",
      "attachment\n",
      "attachment\n",
      "journalArticle\n",
      "attachment\n",
      "attachment\n",
      "attachment\n",
      "journalArticle\n",
      "attachment\n",
      "journalArticle\n",
      "attachment\n",
      "attachment\n",
      "attachment\n",
      "attachment\n",
      "attachment\n",
      "attachment\n",
      "attachment\n",
      "journalArticle\n",
      "attachment\n",
      "journalArticle\n",
      "attachment\n",
      "attachment\n",
      "journalArticle\n",
      "attachment\n",
      "attachment\n",
      "journalArticle\n",
      "attachment\n",
      "journalArticle\n",
      "journalArticle\n",
      "attachment\n",
      "journalArticle\n",
      "journalArticle\n",
      "journalArticle\n",
      "journalArticle\n",
      "attachment\n",
      "attachment\n",
      "attachment\n",
      "attachment\n",
      "attachment\n",
      "attachment\n",
      "attachment\n",
      "attachment\n",
      "attachment\n",
      "attachment\n",
      "journalArticle\n",
      "journalArticle\n",
      "journalArticle\n",
      "attachment\n",
      "attachment\n",
      "journalArticle\n",
      "attachment\n",
      "journalArticle\n",
      "attachment\n",
      "journalArticle\n",
      "attachment\n",
      "journalArticle\n",
      "attachment\n",
      "attachment\n",
      "journalArticle\n",
      "attachment\n",
      "journalArticle\n",
      "attachment\n",
      "journalArticle\n",
      "attachment\n",
      "journalArticle\n",
      "journalArticle\n",
      "attachment\n",
      "journalArticle\n",
      "attachment\n",
      "journalArticle\n",
      "attachment\n",
      "journalArticle\n",
      "attachment\n",
      "journalArticle\n",
      "journalArticle\n",
      "attachment\n",
      "journalArticle\n"
     ]
    }
   ],
   "source": [
    "for item in items:\n",
    "    print(item['data']['itemType'])"
   ]
  },
  {
   "cell_type": "code",
   "execution_count": 61,
   "metadata": {
    "ExecuteTime": {
     "end_time": "2019-11-28T13:26:18.848239Z",
     "start_time": "2019-11-28T13:26:18.844361Z"
    }
   },
   "outputs": [
    {
     "name": "stdout",
     "output_type": "stream",
     "text": [
      "277\n"
     ]
    }
   ],
   "source": [
    "print(len(items))"
   ]
  },
  {
   "cell_type": "code",
   "execution_count": 62,
   "metadata": {
    "ExecuteTime": {
     "end_time": "2019-11-28T13:27:11.929423Z",
     "start_time": "2019-11-28T13:27:11.922155Z"
    }
   },
   "outputs": [
    {
     "name": "stdout",
     "output_type": "stream",
     "text": [
      "3APJN8QW\n",
      "found 1\n"
     ]
    }
   ],
   "source": [
    "title = 'steering'\n",
    "found = False\n",
    "count = 0\n",
    "\n",
    "for item in items:\n",
    "    if item['data']['itemType']=='attachment':\n",
    "        continue\n",
    "    if title.lower() in item['data']['title'].lower():\n",
    "        print(item['key'])\n",
    "        found = True, \n",
    "        count+=1\n",
    "\n",
    "if found: \n",
    "    print(f'found {count}')\n",
    "else:\n",
    "    print('not found')"
   ]
  },
  {
   "cell_type": "code",
   "execution_count": null,
   "metadata": {},
   "outputs": [],
   "source": []
  }
 ],
 "metadata": {
  "kernelspec": {
   "display_name": "Python 3",
   "language": "python",
   "name": "python3"
  },
  "language_info": {
   "codemirror_mode": {
    "name": "ipython",
    "version": 3
   },
   "file_extension": ".py",
   "mimetype": "text/x-python",
   "name": "python",
   "nbconvert_exporter": "python",
   "pygments_lexer": "ipython3",
   "version": "3.7.6"
  },
  "latex_envs": {
   "LaTeX_envs_menu_present": true,
   "autoclose": false,
   "autocomplete": true,
   "bibliofile": "biblio.bib",
   "cite_by": "apalike",
   "current_citInitial": 1,
   "eqLabelWithNumbers": true,
   "eqNumInitial": 1,
   "hotkeys": {
    "equation": "Ctrl-E",
    "itemize": "Ctrl-I"
   },
   "labels_anchors": false,
   "latex_user_defs": false,
   "report_style_numbering": false,
   "user_envs_cfg": false
  },
  "toc": {
   "base_numbering": 1,
   "nav_menu": {},
   "number_sections": true,
   "sideBar": true,
   "skip_h1_title": true,
   "title_cell": "Table of Contents",
   "title_sidebar": "Contents",
   "toc_cell": false,
   "toc_position": {},
   "toc_section_display": true,
   "toc_window_display": true
  }
 },
 "nbformat": 4,
 "nbformat_minor": 2
}
